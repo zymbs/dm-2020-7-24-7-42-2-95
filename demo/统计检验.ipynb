{
 "cells": [
  {
   "cell_type": "markdown",
   "metadata": {},
   "source": [
    "# T分布"
   ]
  },
  {
   "cell_type": "markdown",
   "metadata": {},
   "source": [
    "![sad](https://appwk.baidu.com/naapi/doc/view?ih=810&o=jpg_6&iw=1080&ix=0&iy=0&aimw=1080&rn=1&doc_id=85518fb8240c844769eaeea5&pn=10&sign=3e99b6dc18cac400425df6424edf0a6c&type=1&app_ver=2.9.8.2&ua=bd_800_800_IncredibleS_2.9.8.2_2.3.7&bid=1&app_ua=IncredibleS&uid=&cuid=&fr=3&Bdi_bear=WIFI&from=3_10000&bduss=&pid=1&screen=800_800&sys_ver=2.3.7)"
   ]
  },
  {
   "cell_type": "markdown",
   "metadata": {},
   "source": [
    "+ 以0为中心，单峰对称分布\n",
    "+ T分布形状与自由度有关\n",
    "+ 自由度越大，T分布越趋近于标准正态分布,一般自由度大于30以上的T分布就已经很接近于标准正态分布了"
   ]
  },
  {
   "cell_type": "markdown",
   "metadata": {},
   "source": [
    "# 单样本T检验"
   ]
  },
  {
   "cell_type": "markdown",
   "metadata": {},
   "source": [
    "## 统计学知识"
   ]
  },
  {
   "cell_type": "markdown",
   "metadata": {},
   "source": [
    "对某服从正态总体样本，总体方差未知\n",
    "+ 原假设/备择假设: $$H_0:\\mu=\\mu_0,H_1:\\mu\\not=\\mu_0$$\n",
    "+ 统计量构造(服从$T$分布): $$t=\\frac{\\bar{X}-\\mu_0}{\\frac{S}{\\sqrt{n}}} ～\\ T(n-1)$$\n",
    "+ P-value(双侧): $$P(|x|>|t|)=P_{value}$$"
   ]
  },
  {
   "cell_type": "markdown",
   "metadata": {},
   "source": [
    "## 实战"
   ]
  },
  {
   "cell_type": "markdown",
   "metadata": {},
   "source": [
    "模拟两组数据"
   ]
  },
  {
   "cell_type": "code",
   "execution_count": 9,
   "metadata": {
    "collapsed": true
   },
   "outputs": [],
   "source": [
    "import numpy as np\n",
    "sample1=np.random.normal(loc=3,scale=2,size=30) #30个来自均值为3,标准差为2的正态分布样本\n",
    "sample2=np.random.normal(loc=0,scale=1,size=30) #30个来自标准正态分布总体的样本"
   ]
  },
  {
   "cell_type": "markdown",
   "metadata": {},
   "source": [
    "显著性水平为0.05,检验sample1的均值是否为0?,即检验样本均值与0是否有统计学上的差异"
   ]
  },
  {
   "cell_type": "code",
   "execution_count": 13,
   "metadata": {},
   "outputs": [
    {
     "data": {
      "text/plain": [
       "Ttest_1sampResult(statistic=6.845277688658717, pvalue=1.6146268403952154e-07)"
      ]
     },
     "execution_count": 13,
     "metadata": {},
     "output_type": "execute_result"
    }
   ],
   "source": [
    "from scipy import stats\n",
    "stats.ttest_1samp(sample1,popmean=0)"
   ]
  },
  {
   "cell_type": "markdown",
   "metadata": {},
   "source": [
    "p值原小于0.05,说明有足够证据表明该样本对应总体均值不为0"
   ]
  },
  {
   "cell_type": "markdown",
   "metadata": {},
   "source": [
    "# 双样本T检验"
   ]
  },
  {
   "cell_type": "markdown",
   "metadata": {},
   "source": [
    "对比下sample1和sample2样本的均值貌似有差异(随机性存在,因此结果可能存在微小差异)"
   ]
  },
  {
   "cell_type": "code",
   "execution_count": 43,
   "metadata": {},
   "outputs": [
    {
     "name": "stdout",
     "output_type": "stream",
     "text": [
      "2.6511693517467423\n",
      "-0.12508039059316264\n"
     ]
    }
   ],
   "source": [
    "print (sample1.mean())\n",
    "print (sample2.mean())"
   ]
  },
  {
   "cell_type": "markdown",
   "metadata": {},
   "source": [
    "## 统计理论知识(选读)"
   ]
  },
  {
   "cell_type": "markdown",
   "metadata": {},
   "source": [
    "**第一种:假定方差相同,两独立、服从正态分布样本的T检验或数据量较大的两非正态总体样本(总体方差未知):**\n",
    "\n",
    "+ 原假设/备择假设: $$H_0:\\mu_0=\\mu_1,H_1:\\mu_0\\not=\\mu_1$$        \n",
    "+ 统计量构造(服从$T$分布): $$t=\\frac{\\bar{X_1}-\\bar{X_2}}{\\sqrt{\\frac{(n_1-1)S_1^2+(n_2-1)S_2^2}{n_1+n_2-2}(\\frac{1}{n_1}+\\frac{1}{n_2})}} ～\\ T(n_1+n_2-2) $$\n",
    "+ P-value(双侧): $$P(|x|>|t|)=P_{value}$$"
   ]
  },
  {
   "cell_type": "markdown",
   "metadata": {},
   "source": [
    "**第二种:假定方差不相同,两服从正态分布样本的T检验或数据量较大的两非正态总体样本(总体方差未知):**\n",
    "原假设/备择假设: $$H_0:\\mu_0=\\mu_1,H_1:\\mu_0\\not=\\mu_1$$\n",
    "统计量构造(近似服从$T$分布): $$t_{welch}^*=\\frac{\\bar{X_1}-\\bar{X_2}}{\\sqrt{\\frac{S_1^2}{n_1}+\\frac{S_2^2}{n_2}}} ～\\ T(df)$$ 其中: $$df=\\frac{(\\frac{S_1^2}{n_1}+\\frac{S_2^2}{n_2})^2}{\\frac{\\frac{S_1^2}{n_1}}{n_1}+\\frac{\\frac{S_2^2}{n_2}}{n_2}}$$    \n",
    "P-value(双侧): $$P(|x|>|t|)=P_{value}$$"
   ]
  },
  {
   "cell_type": "markdown",
   "metadata": {},
   "source": [
    "可通过Levene方差齐性检验检查两样本对应总体方差是否一致"
   ]
  },
  {
   "cell_type": "markdown",
   "metadata": {},
   "source": [
    "原假设/备择假设: $$H_0:\\sigma_0=\\sigma_1=\\sigma_2=...=\\sigma_n,H_1:\\sigma_0\\not=\\sigma_1\\ or\\ \\sigma_0\\not=\\sigma_2\\ ... or\\ \\sigma_i\\not=\\sigma_j...$$\n",
    "\n",
    "统计量构造(服从$F$分布): $$W=\\frac{(N-k)\\sum_{i=1}^kN_i(\\bar{Z_{i}}-\\bar{Z})^2}{(k-1)\\sum_{i=1}^k\\sum_{j=1}^{N_i}(Z_{ij}-\\bar{Z_i})^2} ～F(k-1,n-k)$$\n",
    "\n",
    "其中 $$k:组数,N_i:第i个组样本量,N:总样本量,Z_{ij}:见定义,\\bar{Z_i}:第i组样本转换后均值,\\bar{Z}:总样本转换后均值$$\n",
    "\n",
    "$Z$值定义:\n",
    "\n",
    "$$1. \\ Z_{ij}=|X_{ij}-\\bar{X_i}| $$ $$2. \\ Z_{ij}=|X_{ij}-\\tilde{X_i}|$$ $$3. \\ Z_{ij}=|X_{ij}-\\bar{X'_i}|$$\n",
    "\n",
    "$$Z_{ij}:第i组第j个观测值转换后的结果,\\bar{X_i}:第i组均值,\\tilde{X_i}:第i组中位数,\\bar{X'_i}:第二组x\\%调整的均值$$\n",
    "\n",
    "P-value(双侧单边): $$P(x>W)=P_{value}$$"
   ]
  },
  {
   "cell_type": "markdown",
   "metadata": {},
   "source": [
    "## 实战"
   ]
  },
  {
   "cell_type": "markdown",
   "metadata": {},
   "source": [
    "双样本T检验步骤:\n",
    "1. 方差齐性检验\n",
    "2. 双样本T检验"
   ]
  },
  {
   "cell_type": "code",
   "execution_count": 49,
   "metadata": {
    "collapsed": true
   },
   "outputs": [],
   "source": [
    "from scipy import stats"
   ]
  },
  {
   "cell_type": "code",
   "execution_count": 52,
   "metadata": {},
   "outputs": [
    {
     "data": {
      "text/plain": [
       "LeveneResult(statistic=14.47974094301141, pvalue=0.0003434405759791396)"
      ]
     },
     "execution_count": 52,
     "metadata": {},
     "output_type": "execute_result"
    }
   ],
   "source": [
    "stats.levene(sample1,sample2)  #W统计量很高,p值非常小,拒绝原假设,即认为两样本对应总体方差不齐"
   ]
  },
  {
   "cell_type": "code",
   "execution_count": 53,
   "metadata": {},
   "outputs": [
    {
     "data": {
      "text/plain": [
       "Ttest_indResult(statistic=7.145314091206715, pvalue=1.4063423118177189e-08)"
      ]
     },
     "execution_count": 53,
     "metadata": {},
     "output_type": "execute_result"
    }
   ],
   "source": [
    "stats.ttest_ind(sample1,sample2,equal_var=False) #设定equal_var为False,即做假定方差不同的T检验"
   ]
  },
  {
   "cell_type": "markdown",
   "metadata": {},
   "source": [
    "结果表明,p值较低,拒绝原假设,即两样本均值差异是有统计学意义的"
   ]
  }
 ],
 "metadata": {
  "kernelspec": {
   "display_name": "Python 3",
   "language": "python",
   "name": "python3"
  },
  "language_info": {
   "codemirror_mode": {
    "name": "ipython",
    "version": 3
   },
   "file_extension": ".py",
   "mimetype": "text/x-python",
   "name": "python",
   "nbconvert_exporter": "python",
   "pygments_lexer": "ipython3",
   "version": "3.6.3"
  },
  "toc": {
   "base_numbering": 1,
   "nav_menu": {},
   "number_sections": true,
   "sideBar": true,
   "skip_h1_title": false,
   "title_cell": "Table of Contents",
   "title_sidebar": "Contents",
   "toc_cell": false,
   "toc_position": {},
   "toc_section_display": true,
   "toc_window_display": true
  }
 },
 "nbformat": 4,
 "nbformat_minor": 4
}
